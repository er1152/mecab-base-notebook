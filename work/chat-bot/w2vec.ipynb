{
 "cells": [
  {
   "cell_type": "code",
   "execution_count": 29,
   "id": "80df58ea",
   "metadata": {},
   "outputs": [],
   "source": [
    "import numpy as np\n",
    "import pandas as pd\n",
    "import pickle\n",
    "from gensim.models import word2vec\n",
    "import MeCab\n",
    "import re\n",
    "\n",
    "\n",
    "tagger = MeCab.Tagger(\" -r /etc/mecabrc -d /usr/lib/x86_64-linux-gnu/mecab/dic/mecab-ipadic-neologd\")\n",
    "\n",
    "def tokenize_ja(text, lower):\n",
    "    node = tagger.parseToNode(str(text))\n",
    "    while node:\n",
    "        # 分かち書きで取得する品詞を指定\n",
    "        if lower and node.feature.split(',')[0] in [\"名詞\", \"形容詞\"]:\n",
    "            yield node.surface.lower()\n",
    "        node = node.next\n",
    "\n",
    "\n",
    "def tokenize(content, token_min_len, token_max_len, lower):\n",
    "    return [\n",
    "        str(token) for token in tokenize_ja(content, lower)\n",
    "        if token_min_len <= len(token) <= token_max_len and not token.startswith('_')\n",
    "    ]\n",
    "\n",
    "\n",
    "# 学習データの読み込み\n",
    "df = pd.read_csv('./data/200_ramen_review.csv')\n",
    "df2 = pd.read_csv('./data/200_ramen_store.csv')\n",
    "df = pd.merge(df, df2, on=\"ID\")\n",
    "df_ramen = df.groupby(['name', 'score', 'review_count'])['review'].apply(\n",
    "    list).apply(' '.join).reset_index().sort_values('score', ascending=False)\n",
    "\n"
   ]
  },
  {
   "cell_type": "code",
   "execution_count": 4,
   "id": "8d0a136c",
   "metadata": {
    "scrolled": true
   },
   "outputs": [
    {
     "data": {
      "text/html": [
       "<div>\n",
       "<style scoped>\n",
       "    .dataframe tbody tr th:only-of-type {\n",
       "        vertical-align: middle;\n",
       "    }\n",
       "\n",
       "    .dataframe tbody tr th {\n",
       "        vertical-align: top;\n",
       "    }\n",
       "\n",
       "    .dataframe thead th {\n",
       "        text-align: right;\n",
       "    }\n",
       "</style>\n",
       "<table border=\"1\" class=\"dataframe\">\n",
       "  <thead>\n",
       "    <tr style=\"text-align: right;\">\n",
       "      <th></th>\n",
       "      <th>name</th>\n",
       "      <th>score</th>\n",
       "      <th>review_count</th>\n",
       "      <th>review</th>\n",
       "    </tr>\n",
       "  </thead>\n",
       "  <tbody>\n",
       "    <tr>\n",
       "      <th>28</th>\n",
       "      <td>らぁ麺や 嶋</td>\n",
       "      <td>3.99</td>\n",
       "      <td>249</td>\n",
       "      <td>特製醤油らぁ麺　1180円あの”ラーメンの鬼”佐野氏のDNAを継ぐお店が西新宿に！…という情...</td>\n",
       "    </tr>\n",
       "    <tr>\n",
       "      <th>0</th>\n",
       "      <td>Homemade Ramen 麦苗</td>\n",
       "      <td>3.98</td>\n",
       "      <td>758</td>\n",
       "      <td>特上 塩つけ　　　　　　　　　　　　　　959月10日、今日の昼食は多摩川を越えて大森まで遠...</td>\n",
       "    </tr>\n",
       "    <tr>\n",
       "      <th>112</th>\n",
       "      <td>手打式超多加水麺 ののくら</td>\n",
       "      <td>3.96</td>\n",
       "      <td>532</td>\n",
       "      <td>食べログのラーメン部門で東京No.1になった「ののくら」にやってまいりました～！（2020年...</td>\n",
       "    </tr>\n",
       "    <tr>\n",
       "      <th>183</th>\n",
       "      <td>麺尊 RAGE</td>\n",
       "      <td>3.94</td>\n",
       "      <td>784</td>\n",
       "      <td>金曜夜19:15着。外待ち4名に接続。外待ち席にて、注文を聞かれました。そこで、ご飯もの終了...</td>\n",
       "    </tr>\n",
       "    <tr>\n",
       "      <th>108</th>\n",
       "      <td>宍道湖しじみ中華蕎麦 琥珀</td>\n",
       "      <td>3.94</td>\n",
       "      <td>346</td>\n",
       "      <td>前からものすごくいってみたかったお店！ただし、平日しかやっていないのと雑色という立地の不便さ...</td>\n",
       "    </tr>\n",
       "    <tr>\n",
       "      <th>...</th>\n",
       "      <td>...</td>\n",
       "      <td>...</td>\n",
       "      <td>...</td>\n",
       "      <td>...</td>\n",
       "    </tr>\n",
       "    <tr>\n",
       "      <th>159</th>\n",
       "      <td>馳走麺 狸穴</td>\n",
       "      <td>3.72</td>\n",
       "      <td>743</td>\n",
       "      <td>2021年3月28日（日）本日はニボ美のリクエストでこちらの店を初訪問。12時02分に到着す...</td>\n",
       "    </tr>\n",
       "    <tr>\n",
       "      <th>77</th>\n",
       "      <td>中華そば 青葉 中野本店</td>\n",
       "      <td>3.72</td>\n",
       "      <td>727</td>\n",
       "      <td>中野でラーメン屋と言ったら、往年のラーメンファンがまず思い浮かぶのはココですよね中野行く度に...</td>\n",
       "    </tr>\n",
       "    <tr>\n",
       "      <th>55</th>\n",
       "      <td>ラーメン二郎 目黒店</td>\n",
       "      <td>3.72</td>\n",
       "      <td>575</td>\n",
       "      <td>かなり久しぶりのラーメン二郎目黒店開店30分前で外待ち15人30分前ですぐシャッターが開き、...</td>\n",
       "    </tr>\n",
       "    <tr>\n",
       "      <th>129</th>\n",
       "      <td>煮干中華そば鈴蘭</td>\n",
       "      <td>3.72</td>\n",
       "      <td>555</td>\n",
       "      <td>～限定煮干そば・味噌 800円～去年９月より体絞って２２ｋｇ痩せた僕です。久々のレビューやけ...</td>\n",
       "    </tr>\n",
       "    <tr>\n",
       "      <th>126</th>\n",
       "      <td>焼きあご塩らー麺 たかはし 新宿本店</td>\n",
       "      <td>3.72</td>\n",
       "      <td>794</td>\n",
       "      <td>2021年7月17日（土）今夜は満腹のニボ美と分かれてから1人でこちらの店を初訪問。尚、目的...</td>\n",
       "    </tr>\n",
       "  </tbody>\n",
       "</table>\n",
       "<p>200 rows × 4 columns</p>\n",
       "</div>"
      ],
      "text/plain": [
       "                   name  score  review_count  \\\n",
       "28               らぁ麺や 嶋   3.99           249   \n",
       "0     Homemade Ramen 麦苗   3.98           758   \n",
       "112       手打式超多加水麺 ののくら   3.96           532   \n",
       "183             麺尊 RAGE   3.94           784   \n",
       "108       宍道湖しじみ中華蕎麦 琥珀   3.94           346   \n",
       "..                  ...    ...           ...   \n",
       "159              馳走麺 狸穴   3.72           743   \n",
       "77         中華そば 青葉 中野本店   3.72           727   \n",
       "55           ラーメン二郎 目黒店   3.72           575   \n",
       "129            煮干中華そば鈴蘭   3.72           555   \n",
       "126  焼きあご塩らー麺 たかはし 新宿本店   3.72           794   \n",
       "\n",
       "                                                review  \n",
       "28   特製醤油らぁ麺　1180円あの”ラーメンの鬼”佐野氏のDNAを継ぐお店が西新宿に！…という情...  \n",
       "0    特上 塩つけ　　　　　　　　　　　　　　959月10日、今日の昼食は多摩川を越えて大森まで遠...  \n",
       "112  食べログのラーメン部門で東京No.1になった「ののくら」にやってまいりました～！（2020年...  \n",
       "183  金曜夜19:15着。外待ち4名に接続。外待ち席にて、注文を聞かれました。そこで、ご飯もの終了...  \n",
       "108  前からものすごくいってみたかったお店！ただし、平日しかやっていないのと雑色という立地の不便さ...  \n",
       "..                                                 ...  \n",
       "159  2021年3月28日（日）本日はニボ美のリクエストでこちらの店を初訪問。12時02分に到着す...  \n",
       "77   中野でラーメン屋と言ったら、往年のラーメンファンがまず思い浮かぶのはココですよね中野行く度に...  \n",
       "55   かなり久しぶりのラーメン二郎目黒店開店30分前で外待ち15人30分前ですぐシャッターが開き、...  \n",
       "129  ～限定煮干そば・味噌 800円～去年９月より体絞って２２ｋｇ痩せた僕です。久々のレビューやけ...  \n",
       "126  2021年7月17日（土）今夜は満腹のニボ美と分かれてから1人でこちらの店を初訪問。尚、目的...  \n",
       "\n",
       "[200 rows x 4 columns]"
      ]
     },
     "execution_count": 4,
     "metadata": {},
     "output_type": "execute_result"
    }
   ],
   "source": [
    "df_ramen"
   ]
  },
  {
   "cell_type": "code",
   "execution_count": 30,
   "id": "61f316a6",
   "metadata": {},
   "outputs": [
    {
     "name": "stderr",
     "output_type": "stream",
     "text": [
      "/opt/conda/lib/python3.9/site-packages/numpy/lib/npyio.py:1378: VisibleDeprecationWarning: Creating an ndarray from ragged nested sequences (which is a list-or-tuple of lists-or-tuples-or ndarrays with different lengths or shapes) is deprecated. If you meant to do this, you must specify 'dtype=object' when creating the ndarray.\n",
      "  X = np.asarray(X)\n"
     ]
    }
   ],
   "source": [
    "# コーパス作成\n",
    "def preprocessing_text(text):\n",
    "    # 改行、半角スペース、全角スペースを削除\n",
    "    text = re.sub('\\r', '' , text)\n",
    "    text = re.sub('\\n', '' , text)\n",
    "    text = re.sub('　', '' , text)\n",
    "    text = re.sub(' ', '' , text)\n",
    "    text = text.lower()\n",
    "    # 数字文字の一律「0」化\n",
    "    text = re.sub('\\d+,?\\d*', '0', text) \n",
    "    return text\n",
    "                  \n",
    "wakati_ramen_text = []\n",
    "for i in df_ramen['review']:\n",
    "    txt = preprocessing_text(i)\n",
    "    txt = tokenize(txt, 2, 10000, True)\n",
    "    wakati_ramen_text.append(txt)\n",
    "\n",
    "np.savetxt(\"./data/200_ramen_corpus.txt\", wakati_ramen_text,\n",
    "           fmt='%s', delimiter=',', encoding='UTF-8')\n",
    "np.savetxt(\"./data/200_ramen_corpus.txt\", wakati_ramen_text,\n",
    "           fmt='%s', delimiter=',', encoding='UTF-8')\n"
   ]
  },
  {
   "cell_type": "code",
   "execution_count": 31,
   "id": "c1b6e27e",
   "metadata": {},
   "outputs": [],
   "source": [
    "# モデル作成\n",
    "\n",
    "word2vec_ramen_model = word2vec.Word2Vec(wakati_ramen_text,sg=1, vector_size=100, window=5,min_count=5,workers=3)\n",
    "\n",
    "word2vec_ramen_model = word2vec.Word2Vec(wakati_ramen_text, sg = 1, vector_size=100, window = 5, min_count = 5, workers = 3)\n",
    "\n",
    "#sg（0: CBOW, 1: skip-gram）,size（ベクトルの次元数）,window（学習に使う前後の単語数）,min_count（n回未満登場する単語を破棄）,iter（トレーニング反復回数）\n",
    "\n",
    "# モデルのセーブ\n",
    "word2vec_ramen_model.save(\"./model/word2vec_ramen_model_v2.model\")"
   ]
  },
  {
   "cell_type": "code",
   "execution_count": 32,
   "id": "ebaaef16",
   "metadata": {},
   "outputs": [
    {
     "data": {
      "text/plain": [
       "[('日々', 0.9057350754737854),\n",
       " ('ファン', 0.8976778984069824),\n",
       " ('インスパイア', 0.889609158039093),\n",
       " ('熱烈', 0.8873732686042786),\n",
       " ('長浜ラーメン', 0.8848977088928223),\n",
       " ('経験', 0.884236216545105),\n",
       " ('お気に入り', 0.8769047260284424),\n",
       " ('中野', 0.8761041760444641),\n",
       " ('取材拒否', 0.8754292130470276),\n",
       " ('思い出', 0.8753508925437927)]"
      ]
     },
     "execution_count": 32,
     "metadata": {},
     "output_type": "execute_result"
    }
   ],
   "source": [
    "# モデルのロード\n",
    "#model(ver1)\n",
    "word2vec_ramen_model =word2vec.Word2Vec.load(\"./model/word2vec_ramen_model.model\")\n",
    "word2vec_ramen_model.wv.most_similar(\"二郎\")"
   ]
  },
  {
   "cell_type": "code",
   "execution_count": 33,
   "id": "d46dac29",
   "metadata": {},
   "outputs": [
    {
     "data": {
      "text/plain": [
       "[('野猿', 0.8096699118614197),\n",
       " ('二郎系', 0.8089856505393982),\n",
       " ('ラーメン二郎', 0.7650819420814514),\n",
       " ('三田', 0.7554795742034912),\n",
       " ('乳化', 0.7452131509780884),\n",
       " ('博多ラーメン', 0.7447754144668579),\n",
       " ('野猿街道', 0.7325755953788757),\n",
       " ('家系', 0.7277393341064453),\n",
       " ('インスパイア', 0.7213176488876343),\n",
       " ('直系', 0.7164747714996338)]"
      ]
     },
     "execution_count": 33,
     "metadata": {},
     "output_type": "execute_result"
    }
   ],
   "source": [
    "# モデルのロード\n",
    "#model(ver2)\n",
    "word2vec_ramen_model =word2vec.Word2Vec.load(\"./model/word2vec_ramen_model_v2.model\")\n",
    "word2vec_ramen_model.wv.most_similar(\"二郎\")"
   ]
  },
  {
   "cell_type": "code",
   "execution_count": 53,
   "id": "0de3c942",
   "metadata": {},
   "outputs": [
    {
     "data": {
      "text/plain": [
       "[('アルバイト', 0.9619793891906738),\n",
       " ('代目', 0.9582072496414185),\n",
       " ('小川', 0.9562837481498718),\n",
       " ('長谷川', 0.9525606036186218),\n",
       " ('タレント', 0.9504513740539551),\n",
       " ('本人', 0.9504405856132507),\n",
       " ('郡山', 0.9489341378211975),\n",
       " ('定食屋', 0.9486766457557678),\n",
       " ('運営', 0.9464150667190552),\n",
       " ('漢字', 0.9450749754905701)]"
      ]
     },
     "execution_count": 53,
     "metadata": {},
     "output_type": "execute_result"
    }
   ],
   "source": [
    "word2vec_ramen_model.wv.most_similar(\"山岸\")"
   ]
  },
  {
   "cell_type": "code",
   "execution_count": 49,
   "id": "b7fbd17c",
   "metadata": {},
   "outputs": [
    {
     "data": {
      "text/plain": [
       "[('直送', 0.8479162454605103),\n",
       " ('開発', 0.8356922268867493),\n",
       " ('確立', 0.8338803052902222),\n",
       " ('order', 0.8319934010505676),\n",
       " ('久留米', 0.830234706401825),\n",
       " ('トンコツ', 0.8286890387535095),\n",
       " ('なぁ～', 0.8258898258209229),\n",
       " ('チャッチャ', 0.8250440955162048),\n",
       " ('七福', 0.8245644569396973),\n",
       " ('湯塩', 0.8235633969306946)]"
      ]
     },
     "execution_count": 49,
     "metadata": {},
     "output_type": "execute_result"
    }
   ],
   "source": [
    "word2vec_ramen_model.wv.most_similar(positive=[u\"ラーメン\",u\"北海道\"])"
   ]
  }
 ],
 "metadata": {
  "kernelspec": {
   "display_name": "Python 3 (ipykernel)",
   "language": "python",
   "name": "python3"
  },
  "language_info": {
   "codemirror_mode": {
    "name": "ipython",
    "version": 3
   },
   "file_extension": ".py",
   "mimetype": "text/x-python",
   "name": "python",
   "nbconvert_exporter": "python",
   "pygments_lexer": "ipython3",
   "version": "3.9.6"
  }
 },
 "nbformat": 4,
 "nbformat_minor": 5
}
