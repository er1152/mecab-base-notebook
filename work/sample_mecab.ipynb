{
 "cells": [
  {
   "cell_type": "code",
   "execution_count": 1,
   "id": "827c134f",
   "metadata": {},
   "outputs": [],
   "source": [
    "import MeCab"
   ]
  },
  {
   "cell_type": "code",
   "execution_count": 2,
   "id": "4977ca96",
   "metadata": {},
   "outputs": [
    {
     "name": "stdout",
     "output_type": "stream",
     "text": [
      "ONE TEAM\t名詞,固有名詞,一般,*,*,*,ONE TEAM,ワンチーム,ワンチーム\n",
      "は\t助詞,係助詞,*,*,*,*,は,ハ,ワ\n",
      "１\t名詞,数,*,*,*,*,１,イチ,イチ\n",
      "日\t名詞,接尾,助数詞,*,*,*,日,ニチ,ニチ\n",
      "に\t助詞,格助詞,一般,*,*,*,に,ニ,ニ\n",
      "し\t動詞,自立,*,*,サ変・スル,連用形,する,シ,シ\n",
      "て\t助詞,接続助詞,*,*,*,*,て,テ,テ\n",
      "成ら\t動詞,自立,*,*,五段・ラ行,未然形,成る,ナラ,ナラ\n",
      "ず\t助動詞,*,*,*,特殊・ヌ,連用ニ接続,ぬ,ズ,ズ\n",
      "EOS\n",
      "\n"
     ]
    }
   ],
   "source": [
    "MECAB_SETTING = \"/etc/mecabrc\"\n",
    "MECAB_DICTIONARY = \"/usr/lib/x86_64-linux-gnu/mecab/dic/mecab-ipadic-neologd\"\n",
    "MECAB_ARGS = \" -r \" + MECAB_SETTING + \" -d \" + MECAB_DICTIONARY\n",
    "\n",
    "m = MeCab.Tagger(MECAB_ARGS)\n",
    "\n",
    "text = \"ONE TEAMは１日にして成らず\"\n",
    "print(m.parse(text))"
   ]
  }
 ],
 "metadata": {
  "kernelspec": {
   "display_name": "Python 3 (ipykernel)",
   "language": "python",
   "name": "python3"
  },
  "language_info": {
   "codemirror_mode": {
    "name": "ipython",
    "version": 3
   },
   "file_extension": ".py",
   "mimetype": "text/x-python",
   "name": "python",
   "nbconvert_exporter": "python",
   "pygments_lexer": "ipython3",
   "version": "3.9.6"
  }
 },
 "nbformat": 4,
 "nbformat_minor": 5
}
